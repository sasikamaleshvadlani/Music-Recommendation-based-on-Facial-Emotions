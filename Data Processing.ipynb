{
 "cells": [
  {
   "cell_type": "code",
   "execution_count": null,
   "id": "b0aa2a4c",
   "metadata": {},
   "outputs": [],
   "source": [
    "#import libraries\n",
    "import numpy as np\n",
    "import pandas as pd \n",
    "from PIL import Image\n",
    "from tqdm import tqdm\n",
    "import os"
   ]
  },
  {
   "cell_type": "code",
   "execution_count": null,
   "id": "566f609d",
   "metadata": {},
   "outputs": [],
   "source": [
    "# convert string to integer\n",
    "def atoi(s):\n",
    "    n = 0\n",
    "    for i in s:\n",
    "        n = n*10 + ord(i) - ord(\"0\")\n",
    "    return n"
   ]
  },
  {
   "cell_type": "code",
   "execution_count": null,
   "id": "cd2bd751",
   "metadata": {},
   "outputs": [],
   "source": [
    "# making folders\n",
    "outer_names = ['test','train']\n",
    "inner_names = ['angry', 'disgusted', 'fearful', 'happy', 'sad', 'surprised', 'neutral']\n",
    "os.makedirs('data', exist_ok=True)\n",
    "for outer_name in outer_names:\n",
    "    os.makedirs(os.path.join('data',outer_name), exist_ok=True)\n",
    "    for inner_name in inner_names:\n",
    "        os.makedirs(os.path.join('data',outer_name,inner_name), exist_ok=True)"
   ]
  },
  {
   "cell_type": "code",
   "execution_count": null,
   "id": "9c6158c0",
   "metadata": {},
   "outputs": [],
   "source": [
    "# to keep count of each category\n",
    "angry = 0\n",
    "disgusted = 0\n",
    "fearful = 0\n",
    "happy = 0\n",
    "sad = 0\n",
    "surprised = 0\n",
    "neutral = 0\n",
    "angry_test = 0\n",
    "disgusted_test = 0\n",
    "fearful_test = 0\n",
    "happy_test = 0\n",
    "sad_test = 0\n",
    "surprised_test = 0\n",
    "neutral_test = 0\n",
    "\n",
    "df = pd.read_csv('fer2013.csv')\n",
    "mat = np.zeros((48,48),dtype=np.uint8)\n",
    "print(\"Saving images...\")"
   ]
  },
  {
   "cell_type": "code",
   "execution_count": null,
   "id": "a0c73db3",
   "metadata": {},
   "outputs": [],
   "source": [
    "#categorizing images to test and train\n",
    "for i in tqdm(range(len(df))):\n",
    "    txt = df['pixels'][i]\n",
    "    words = txt.split()    \n",
    "    # the image size is 48x48\n",
    "    for j in range(2304):\n",
    "        xind = j // 48\n",
    "        yind = j % 48\n",
    "        mat[xind][yind] = int(words[j])\n",
    "    img = Image.fromarray(mat)\n",
    "    # train\n",
    "    if i < 28709:\n",
    "        if df['emotion'][i] == 0:\n",
    "            img.save('train/angry/im'+str(angry)+'.png')\n",
    "            angry += 1\n",
    "        elif df['emotion'][i] == 1:\n",
    "            img.save('train/disgusted/im'+str(disgusted)+'.png')\n",
    "            disgusted += 1\n",
    "        elif df['emotion'][i] == 2:\n",
    "            img.save('train/fearful/im'+str(fearful)+'.png')\n",
    "            fearful += 1\n",
    "        elif df['emotion'][i] == 3:\n",
    "            img.save('train/happy/im'+str(happy)+'.png')\n",
    "            happy += 1\n",
    "        elif df['emotion'][i] == 4:\n",
    "            img.save('train/sad/im'+str(sad)+'.png')\n",
    "            sad += 1\n",
    "        elif df['emotion'][i] == 5:\n",
    "            img.save('train/surprised/im'+str(surprised)+'.png')\n",
    "            surprised += 1\n",
    "        elif df['emotion'][i] == 6:\n",
    "            img.save('train/neutral/im'+str(neutral)+'.png')\n",
    "            neutral += 1\n",
    "    # test\n",
    "    else:\n",
    "        if df['emotion'][i] == 0:\n",
    "            img.save('test/angry/im'+str(angry_test)+'.png')\n",
    "            angry_test += 1\n",
    "        elif df['emotion'][i] == 1:\n",
    "            img.save('test/disgusted/im'+str(disgusted_test)+'.png')\n",
    "            disgusted_test += 1\n",
    "        elif df['emotion'][i] == 2:\n",
    "            img.save('test/fearful/im'+str(fearful_test)+'.png')\n",
    "            fearful_test += 1\n",
    "        elif df['emotion'][i] == 3:\n",
    "            img.save('test/happy/im'+str(happy_test)+'.png')\n",
    "            happy_test += 1\n",
    "        elif df['emotion'][i] == 4:\n",
    "            img.save('test/sad/im'+str(sad_test)+'.png')\n",
    "            sad_test += 1\n",
    "        elif df['emotion'][i] == 5:\n",
    "            img.save('test/surprised/im'+str(surprised_test)+'.png')\n",
    "            surprised_test += 1\n",
    "        elif df['emotion'][i] == 6:\n",
    "            img.save('test/neutral/im'+str(neutral_test)+'.png')\n",
    "            neutral_test += 1\n",
    "print(\"Done!\")\n"
   ]
  }
 ],
 "metadata": {
  "kernelspec": {
   "display_name": "Python 3",
   "language": "python",
   "name": "python3"
  },
  "language_info": {
   "codemirror_mode": {
    "name": "ipython",
    "version": 3
   },
   "file_extension": ".py",
   "mimetype": "text/x-python",
   "name": "python",
   "nbconvert_exporter": "python",
   "pygments_lexer": "ipython3",
   "version": "3.8.8"
  }
 },
 "nbformat": 4,
 "nbformat_minor": 5
}
